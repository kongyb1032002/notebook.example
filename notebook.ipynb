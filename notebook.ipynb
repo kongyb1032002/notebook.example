{
 "cells": [
  {
   "cell_type": "markdown",
   "id": "129225a8",
   "metadata": {},
   "source": [
    "# Log Analysis Notebook\n",
    "Notebook này được thiết kế để phân tích dữ liệu log. Các bước thực hiện bao gồm:\\n\",\n",
    "- Tạo dữ liệu log mẫu và lưu vào file CSV.\n",
    "- Tải dữ liệu log từ file CSV và hiển thị thông tin cơ bản.\n",
    "- Thực hiện các phân tích như thống kê số lượng log theo cấp độ, thời gian phản hồi trung bình theo module, và phân tích log theo thời gian.\n",
    "- Vẽ các biểu đồ trực quan để hỗ trợ phân tích."
   ]
  },
  {
   "cell_type": "markdown",
   "id": "560d2013",
   "metadata": {},
   "source": [
    "### Cài đặt các thư viện cần thiết\n",
    "Các thư viện `pillow` và `matplotlib` được cài đặt hoặc cập nhật để đảm bảo môi trường hoạt động đúng."
   ]
  },
  {
   "cell_type": "code",
   "execution_count": null,
   "id": "f681a5fa",
   "metadata": {},
   "outputs": [
    {
     "name": "stdout",
     "output_type": "stream",
     "text": [
      "Defaulting to user installation because normal site-packages is not writeable\n",
      "Requirement already satisfied: matplotlib in /home/ntkong/.local/lib/python3.10/site-packages (3.10.1)\n",
      "Requirement already satisfied: cycler>=0.10 in /home/ntkong/.local/lib/python3.10/site-packages (from matplotlib) (0.12.1)\n",
      "Requirement already satisfied: pyparsing>=2.3.1 in /home/ntkong/.local/lib/python3.10/site-packages (from matplotlib) (3.2.3)\n",
      "Requirement already satisfied: fonttools>=4.22.0 in /home/ntkong/.local/lib/python3.10/site-packages (from matplotlib) (4.57.0)\n",
      "Requirement already satisfied: contourpy>=1.0.1 in /home/ntkong/.local/lib/python3.10/site-packages (from matplotlib) (1.3.2)\n",
      "Requirement already satisfied: kiwisolver>=1.3.1 in /home/ntkong/.local/lib/python3.10/site-packages (from matplotlib) (1.4.8)\n",
      "Requirement already satisfied: python-dateutil>=2.7 in /home/ntkong/.local/lib/python3.10/site-packages (from matplotlib) (2.9.0.post0)\n",
      "Requirement already satisfied: pillow>=8 in /home/ntkong/.local/lib/python3.10/site-packages (from matplotlib) (11.2.1)\n",
      "Requirement already satisfied: packaging>=20.0 in /home/ntkong/.local/lib/python3.10/site-packages (from matplotlib) (24.2)\n",
      "Requirement already satisfied: numpy>=1.23 in /home/ntkong/.local/lib/python3.10/site-packages (from matplotlib) (2.2.4)\n",
      "Requirement already satisfied: six>=1.5 in /home/ntkong/.local/lib/python3.10/site-packages (from python-dateutil>=2.7->matplotlib) (1.17.0)\n"
     ]
    }
   ],
   "source": [
    "!pip install pillow\n",
    "!pip install matplotlib"
   ]
  },
  {
   "cell_type": "markdown",
   "id": "d99840c9",
   "metadata": {},
   "source": [
    "### Tạo dữ liệu log mẫu\n",
    "Dữ liệu log mẫu được tạo với các thông tin như thời gian, cấp độ log, module, thông điệp và thời gian phản hồi. Sau đó, dữ liệu được lưu vào file CSV."
   ]
  },
  {
   "cell_type": "code",
   "execution_count": 4,
   "id": "af6d944a",
   "metadata": {},
   "outputs": [
    {
     "data": {
      "application/vnd.microsoft.datawrangler.viewer.v0+json": {
       "columns": [
        {
         "name": "index",
         "rawType": "int64",
         "type": "integer"
        },
        {
         "name": "timestamp",
         "rawType": "object",
         "type": "string"
        },
        {
         "name": "level",
         "rawType": "object",
         "type": "string"
        },
        {
         "name": "module",
         "rawType": "object",
         "type": "string"
        },
        {
         "name": "message",
         "rawType": "object",
         "type": "string"
        },
        {
         "name": "response_time",
         "rawType": "float64",
         "type": "float"
        }
       ],
       "conversionMethod": "pd.DataFrame",
       "ref": "493c926c-c70f-469c-b1fc-32c78b15f395",
       "rows": [
        [
         "0",
         "2025-04-15T23:45:00.830542",
         "INFO",
         "scheduler",
         "API response slow",
         "1.801"
        ],
        [
         "1",
         "2025-04-15T11:21:56.830542",
         "DEBUG",
         "scheduler",
         "Worker started",
         "1.667"
        ],
        [
         "2",
         "2025-04-16T00:24:57.830542",
         "ERROR",
         "db",
         "User login failed",
         "0.682"
        ],
        [
         "3",
         "2025-04-16T01:42:34.830542",
         "WARN",
         "worker",
         "API response slow",
         "0.949"
        ],
        [
         "4",
         "2025-04-15T11:57:24.830542",
         "INFO",
         "api",
         "Permission denied",
         "0.122"
        ],
        [
         "5",
         "2025-04-15T19:21:55.830542",
         "INFO",
         "db",
         "API response slow",
         "2.375"
        ],
        [
         "6",
         "2025-04-16T08:30:39.830542",
         "WARN",
         "auth",
         "API response slow",
         "2.106"
        ],
        [
         "7",
         "2025-04-15T11:41:44.830542",
         "INFO",
         "worker",
         "Missing required field",
         "0.198"
        ],
        [
         "8",
         "2025-04-16T11:03:39.830542",
         "WARN",
         "api",
         "API response slow",
         "0.512"
        ],
        [
         "9",
         "2025-04-16T03:34:25.830542",
         "DEBUG",
         "api",
         "User login failed",
         "1.082"
        ],
        [
         "10",
         "2025-04-15T17:10:33.830542",
         "WARN",
         "auth",
         "Worker started",
         "0.466"
        ],
        [
         "11",
         "2025-04-16T01:15:02.830542",
         "INFO",
         "scheduler",
         "Worker started",
         "1.249"
        ],
        [
         "12",
         "2025-04-16T01:07:14.830542",
         "WARN",
         "scheduler",
         "Permission denied",
         "0.997"
        ],
        [
         "13",
         "2025-04-15T12:43:00.830542",
         "DEBUG",
         "auth",
         "Unexpected error occurred",
         "0.621"
        ],
        [
         "14",
         "2025-04-16T11:09:38.830542",
         "ERROR",
         "api",
         "Unexpected error occurred",
         "1.61"
        ],
        [
         "15",
         "2025-04-15T09:34:33.830542",
         "ERROR",
         "auth",
         "User login success",
         "0.835"
        ],
        [
         "16",
         "2025-04-15T14:44:46.830542",
         "WARN",
         "db",
         "Worker started",
         "1.779"
        ],
        [
         "17",
         "2025-04-16T10:34:15.830542",
         "INFO",
         "db",
         "Job scheduled",
         "1.532"
        ],
        [
         "18",
         "2025-04-15T09:26:17.830542",
         "INFO",
         "api",
         "DB connection timeout",
         "2.428"
        ],
        [
         "19",
         "2025-04-15T18:59:14.830542",
         "WARN",
         "db",
         "Data saved successfully",
         "0.194"
        ],
        [
         "20",
         "2025-04-16T03:42:46.830542",
         "WARN",
         "scheduler",
         "DB connection timeout",
         "2.228"
        ],
        [
         "21",
         "2025-04-15T11:35:34.830542",
         "WARN",
         "api",
         "User login failed",
         "0.848"
        ],
        [
         "22",
         "2025-04-16T02:12:23.830542",
         "ERROR",
         "scheduler",
         "Unexpected error occurred",
         "1.047"
        ],
        [
         "23",
         "2025-04-15T11:51:09.830542",
         "DEBUG",
         "worker",
         "DB connection timeout",
         "0.577"
        ],
        [
         "24",
         "2025-04-16T10:47:32.830542",
         "ERROR",
         "worker",
         "Job scheduled",
         "2.265"
        ],
        [
         "25",
         "2025-04-16T08:45:20.830542",
         "ERROR",
         "db",
         "Missing required field",
         "1.707"
        ],
        [
         "26",
         "2025-04-15T13:44:20.830542",
         "WARN",
         "db",
         "Data saved successfully",
         "1.64"
        ],
        [
         "27",
         "2025-04-15T11:56:09.830542",
         "INFO",
         "db",
         "API response slow",
         "2.012"
        ],
        [
         "28",
         "2025-04-16T01:34:42.830542",
         "DEBUG",
         "scheduler",
         "DB connection timeout",
         "1.202"
        ],
        [
         "29",
         "2025-04-16T09:00:14.830542",
         "DEBUG",
         "auth",
         "Unexpected error occurred",
         "1.113"
        ],
        [
         "30",
         "2025-04-16T06:24:53.830542",
         "INFO",
         "api",
         "API response slow",
         "2.441"
        ],
        [
         "31",
         "2025-04-16T11:01:19.830542",
         "WARN",
         "api",
         "Missing required field",
         "1.433"
        ],
        [
         "32",
         "2025-04-15T22:05:25.830542",
         "INFO",
         "api",
         "User login failed",
         "2.449"
        ],
        [
         "33",
         "2025-04-16T09:45:57.830542",
         "WARN",
         "auth",
         "Permission denied",
         "0.966"
        ],
        [
         "34",
         "2025-04-16T01:08:30.830542",
         "INFO",
         "auth",
         "Job scheduled",
         "1.768"
        ],
        [
         "35",
         "2025-04-16T06:38:29.830542",
         "ERROR",
         "db",
         "Unexpected error occurred",
         "2.42"
        ],
        [
         "36",
         "2025-04-16T09:18:04.830542",
         "ERROR",
         "api",
         "DB connection timeout",
         "1.955"
        ],
        [
         "37",
         "2025-04-16T07:44:57.830542",
         "INFO",
         "worker",
         "User login success",
         "2.368"
        ],
        [
         "38",
         "2025-04-15T20:10:53.830542",
         "ERROR",
         "auth",
         "User login failed",
         "2.285"
        ],
        [
         "39",
         "2025-04-15T10:10:18.830542",
         "WARN",
         "scheduler",
         "DB connection timeout",
         "1.58"
        ],
        [
         "40",
         "2025-04-16T04:24:28.830542",
         "WARN",
         "scheduler",
         "Job scheduled",
         "1.808"
        ],
        [
         "41",
         "2025-04-15T21:11:24.830542",
         "DEBUG",
         "auth",
         "Unexpected error occurred",
         "0.405"
        ],
        [
         "42",
         "2025-04-16T07:19:23.830542",
         "ERROR",
         "db",
         "User login success",
         "0.26"
        ],
        [
         "43",
         "2025-04-15T09:30:55.830542",
         "ERROR",
         "auth",
         "Missing required field",
         "1.697"
        ],
        [
         "44",
         "2025-04-15T10:34:40.830542",
         "INFO",
         "db",
         "User login failed",
         "2.322"
        ],
        [
         "45",
         "2025-04-15T19:02:41.830542",
         "DEBUG",
         "db",
         "Missing required field",
         "1.781"
        ],
        [
         "46",
         "2025-04-15T12:26:02.830542",
         "ERROR",
         "db",
         "Data saved successfully",
         "1.575"
        ],
        [
         "47",
         "2025-04-15T09:20:02.830542",
         "ERROR",
         "api",
         "User login failed",
         "1.142"
        ],
        [
         "48",
         "2025-04-16T01:50:59.830542",
         "INFO",
         "worker",
         "Permission denied",
         "2.468"
        ],
        [
         "49",
         "2025-04-16T10:56:37.830542",
         "ERROR",
         "worker",
         "API response slow",
         "0.877"
        ]
       ],
       "shape": {
        "columns": 5,
        "rows": 100
       }
      },
      "text/html": [
       "<div>\n",
       "<style scoped>\n",
       "    .dataframe tbody tr th:only-of-type {\n",
       "        vertical-align: middle;\n",
       "    }\n",
       "\n",
       "    .dataframe tbody tr th {\n",
       "        vertical-align: top;\n",
       "    }\n",
       "\n",
       "    .dataframe thead th {\n",
       "        text-align: right;\n",
       "    }\n",
       "</style>\n",
       "<table border=\"1\" class=\"dataframe\">\n",
       "  <thead>\n",
       "    <tr style=\"text-align: right;\">\n",
       "      <th></th>\n",
       "      <th>timestamp</th>\n",
       "      <th>level</th>\n",
       "      <th>module</th>\n",
       "      <th>message</th>\n",
       "      <th>response_time</th>\n",
       "    </tr>\n",
       "  </thead>\n",
       "  <tbody>\n",
       "    <tr>\n",
       "      <th>0</th>\n",
       "      <td>2025-04-15T23:45:00.830542</td>\n",
       "      <td>INFO</td>\n",
       "      <td>scheduler</td>\n",
       "      <td>API response slow</td>\n",
       "      <td>1.801</td>\n",
       "    </tr>\n",
       "    <tr>\n",
       "      <th>1</th>\n",
       "      <td>2025-04-15T11:21:56.830542</td>\n",
       "      <td>DEBUG</td>\n",
       "      <td>scheduler</td>\n",
       "      <td>Worker started</td>\n",
       "      <td>1.667</td>\n",
       "    </tr>\n",
       "    <tr>\n",
       "      <th>2</th>\n",
       "      <td>2025-04-16T00:24:57.830542</td>\n",
       "      <td>ERROR</td>\n",
       "      <td>db</td>\n",
       "      <td>User login failed</td>\n",
       "      <td>0.682</td>\n",
       "    </tr>\n",
       "    <tr>\n",
       "      <th>3</th>\n",
       "      <td>2025-04-16T01:42:34.830542</td>\n",
       "      <td>WARN</td>\n",
       "      <td>worker</td>\n",
       "      <td>API response slow</td>\n",
       "      <td>0.949</td>\n",
       "    </tr>\n",
       "    <tr>\n",
       "      <th>4</th>\n",
       "      <td>2025-04-15T11:57:24.830542</td>\n",
       "      <td>INFO</td>\n",
       "      <td>api</td>\n",
       "      <td>Permission denied</td>\n",
       "      <td>0.122</td>\n",
       "    </tr>\n",
       "    <tr>\n",
       "      <th>...</th>\n",
       "      <td>...</td>\n",
       "      <td>...</td>\n",
       "      <td>...</td>\n",
       "      <td>...</td>\n",
       "      <td>...</td>\n",
       "    </tr>\n",
       "    <tr>\n",
       "      <th>95</th>\n",
       "      <td>2025-04-16T01:12:33.830542</td>\n",
       "      <td>DEBUG</td>\n",
       "      <td>worker</td>\n",
       "      <td>DB connection timeout</td>\n",
       "      <td>0.966</td>\n",
       "    </tr>\n",
       "    <tr>\n",
       "      <th>96</th>\n",
       "      <td>2025-04-15T10:34:00.830542</td>\n",
       "      <td>INFO</td>\n",
       "      <td>db</td>\n",
       "      <td>API response slow</td>\n",
       "      <td>0.918</td>\n",
       "    </tr>\n",
       "    <tr>\n",
       "      <th>97</th>\n",
       "      <td>2025-04-16T00:38:44.830542</td>\n",
       "      <td>WARN</td>\n",
       "      <td>api</td>\n",
       "      <td>API response slow</td>\n",
       "      <td>1.321</td>\n",
       "    </tr>\n",
       "    <tr>\n",
       "      <th>98</th>\n",
       "      <td>2025-04-15T11:00:23.830542</td>\n",
       "      <td>DEBUG</td>\n",
       "      <td>auth</td>\n",
       "      <td>Worker started</td>\n",
       "      <td>0.844</td>\n",
       "    </tr>\n",
       "    <tr>\n",
       "      <th>99</th>\n",
       "      <td>2025-04-16T04:42:36.830542</td>\n",
       "      <td>ERROR</td>\n",
       "      <td>auth</td>\n",
       "      <td>Job scheduled</td>\n",
       "      <td>2.032</td>\n",
       "    </tr>\n",
       "  </tbody>\n",
       "</table>\n",
       "<p>100 rows × 5 columns</p>\n",
       "</div>"
      ],
      "text/plain": [
       "                     timestamp  level     module                message  \\\n",
       "0   2025-04-15T23:45:00.830542   INFO  scheduler      API response slow   \n",
       "1   2025-04-15T11:21:56.830542  DEBUG  scheduler         Worker started   \n",
       "2   2025-04-16T00:24:57.830542  ERROR         db      User login failed   \n",
       "3   2025-04-16T01:42:34.830542   WARN     worker      API response slow   \n",
       "4   2025-04-15T11:57:24.830542   INFO        api      Permission denied   \n",
       "..                         ...    ...        ...                    ...   \n",
       "95  2025-04-16T01:12:33.830542  DEBUG     worker  DB connection timeout   \n",
       "96  2025-04-15T10:34:00.830542   INFO         db      API response slow   \n",
       "97  2025-04-16T00:38:44.830542   WARN        api      API response slow   \n",
       "98  2025-04-15T11:00:23.830542  DEBUG       auth         Worker started   \n",
       "99  2025-04-16T04:42:36.830542  ERROR       auth          Job scheduled   \n",
       "\n",
       "    response_time  \n",
       "0           1.801  \n",
       "1           1.667  \n",
       "2           0.682  \n",
       "3           0.949  \n",
       "4           0.122  \n",
       "..            ...  \n",
       "95          0.966  \n",
       "96          0.918  \n",
       "97          1.321  \n",
       "98          0.844  \n",
       "99          2.032  \n",
       "\n",
       "[100 rows x 5 columns]"
      ]
     },
     "execution_count": 4,
     "metadata": {},
     "output_type": "execute_result"
    }
   ],
   "source": [
    "import pandas as pd\n",
    "import random\n",
    "from datetime import datetime, timedelta\n",
    "\n",
    "# Tạo dữ liệu log mẫu\n",
    "log_levels = ['INFO', 'DEBUG', 'WARN', 'ERROR']\n",
    "modules = ['auth', 'db', 'api', 'worker', 'scheduler']\n",
    "messages = [\n",
    "    \"User login success\",\n",
    "    \"User login failed\",\n",
    "    \"DB connection timeout\",\n",
    "    \"API response slow\",\n",
    "    \"Worker started\",\n",
    "    \"Job scheduled\",\n",
    "    \"Missing required field\",\n",
    "    \"Permission denied\",\n",
    "    \"Unexpected error occurred\",\n",
    "    \"Data saved successfully\"\n",
    "]\n",
    "\n",
    "# Hàm tạo log giả\n",
    "def generate_logs(num_rows=100):\n",
    "    logs = []\n",
    "    now = datetime.now()\n",
    "    for _ in range(num_rows):\n",
    "        timestamp = now - timedelta(seconds=random.randint(0, 100000))\n",
    "        level = random.choice(log_levels)\n",
    "        module = random.choice(modules)\n",
    "        msg = random.choice(messages)\n",
    "        response_time = round(random.uniform(0.1, 2.5), 3)  # thời gian phản hồi giả lập\n",
    "        logs.append([timestamp.isoformat(), level, module, msg, response_time])\n",
    "    return pd.DataFrame(logs, columns=[\"timestamp\", \"level\", \"module\", \"message\", \"response_time\"])\n",
    "\n",
    "# Tạo và lưu file CSV\n",
    "log_df = generate_logs(100)\n",
    "log_df"
   ]
  },
  {
   "cell_type": "code",
   "execution_count": 5,
   "id": "acd299fc",
   "metadata": {},
   "outputs": [
    {
     "data": {
      "text/plain": [
       "'./sample_logs.csv'"
      ]
     },
     "execution_count": 5,
     "metadata": {},
     "output_type": "execute_result"
    }
   ],
   "source": [
    "csv_path = \"./sample_logs.csv\"\n",
    "log_df.to_csv(csv_path, index=False)\n",
    "csv_path"
   ]
  },
  {
   "cell_type": "markdown",
   "id": "81b0045c",
   "metadata": {},
   "source": [
    "### Tải dữ liệu log từ file CSV\n",
    "Dữ liệu log được tải từ file CSV và hiển thị trước 5 dòng đầu tiên để kiểm tra nội dung."
   ]
  },
  {
   "cell_type": "code",
   "execution_count": 6,
   "id": "a772d8cd",
   "metadata": {},
   "outputs": [
    {
     "data": {
      "application/vnd.microsoft.datawrangler.viewer.v0+json": {
       "columns": [
        {
         "name": "index",
         "rawType": "int64",
         "type": "integer"
        },
        {
         "name": "timestamp",
         "rawType": "datetime64[ns]",
         "type": "datetime"
        },
        {
         "name": "level",
         "rawType": "object",
         "type": "string"
        },
        {
         "name": "module",
         "rawType": "object",
         "type": "string"
        },
        {
         "name": "message",
         "rawType": "object",
         "type": "string"
        },
        {
         "name": "response_time",
         "rawType": "float64",
         "type": "float"
        }
       ],
       "conversionMethod": "pd.DataFrame",
       "ref": "5c41f32b-cffe-440c-858c-dc4d236955a5",
       "rows": [
        [
         "0",
         "2025-04-15 23:45:00.830542",
         "INFO",
         "scheduler",
         "API response slow",
         "1.801"
        ],
        [
         "1",
         "2025-04-15 11:21:56.830542",
         "DEBUG",
         "scheduler",
         "Worker started",
         "1.667"
        ],
        [
         "2",
         "2025-04-16 00:24:57.830542",
         "ERROR",
         "db",
         "User login failed",
         "0.682"
        ],
        [
         "3",
         "2025-04-16 01:42:34.830542",
         "WARN",
         "worker",
         "API response slow",
         "0.949"
        ],
        [
         "4",
         "2025-04-15 11:57:24.830542",
         "INFO",
         "api",
         "Permission denied",
         "0.122"
        ]
       ],
       "shape": {
        "columns": 5,
        "rows": 5
       }
      },
      "text/html": [
       "<div>\n",
       "<style scoped>\n",
       "    .dataframe tbody tr th:only-of-type {\n",
       "        vertical-align: middle;\n",
       "    }\n",
       "\n",
       "    .dataframe tbody tr th {\n",
       "        vertical-align: top;\n",
       "    }\n",
       "\n",
       "    .dataframe thead th {\n",
       "        text-align: right;\n",
       "    }\n",
       "</style>\n",
       "<table border=\"1\" class=\"dataframe\">\n",
       "  <thead>\n",
       "    <tr style=\"text-align: right;\">\n",
       "      <th></th>\n",
       "      <th>timestamp</th>\n",
       "      <th>level</th>\n",
       "      <th>module</th>\n",
       "      <th>message</th>\n",
       "      <th>response_time</th>\n",
       "    </tr>\n",
       "  </thead>\n",
       "  <tbody>\n",
       "    <tr>\n",
       "      <th>0</th>\n",
       "      <td>2025-04-15 23:45:00.830542</td>\n",
       "      <td>INFO</td>\n",
       "      <td>scheduler</td>\n",
       "      <td>API response slow</td>\n",
       "      <td>1.801</td>\n",
       "    </tr>\n",
       "    <tr>\n",
       "      <th>1</th>\n",
       "      <td>2025-04-15 11:21:56.830542</td>\n",
       "      <td>DEBUG</td>\n",
       "      <td>scheduler</td>\n",
       "      <td>Worker started</td>\n",
       "      <td>1.667</td>\n",
       "    </tr>\n",
       "    <tr>\n",
       "      <th>2</th>\n",
       "      <td>2025-04-16 00:24:57.830542</td>\n",
       "      <td>ERROR</td>\n",
       "      <td>db</td>\n",
       "      <td>User login failed</td>\n",
       "      <td>0.682</td>\n",
       "    </tr>\n",
       "    <tr>\n",
       "      <th>3</th>\n",
       "      <td>2025-04-16 01:42:34.830542</td>\n",
       "      <td>WARN</td>\n",
       "      <td>worker</td>\n",
       "      <td>API response slow</td>\n",
       "      <td>0.949</td>\n",
       "    </tr>\n",
       "    <tr>\n",
       "      <th>4</th>\n",
       "      <td>2025-04-15 11:57:24.830542</td>\n",
       "      <td>INFO</td>\n",
       "      <td>api</td>\n",
       "      <td>Permission denied</td>\n",
       "      <td>0.122</td>\n",
       "    </tr>\n",
       "  </tbody>\n",
       "</table>\n",
       "</div>"
      ],
      "text/plain": [
       "                   timestamp  level     module            message  \\\n",
       "0 2025-04-15 23:45:00.830542   INFO  scheduler  API response slow   \n",
       "1 2025-04-15 11:21:56.830542  DEBUG  scheduler     Worker started   \n",
       "2 2025-04-16 00:24:57.830542  ERROR         db  User login failed   \n",
       "3 2025-04-16 01:42:34.830542   WARN     worker  API response slow   \n",
       "4 2025-04-15 11:57:24.830542   INFO        api  Permission denied   \n",
       "\n",
       "   response_time  \n",
       "0          1.801  \n",
       "1          1.667  \n",
       "2          0.682  \n",
       "3          0.949  \n",
       "4          0.122  "
      ]
     },
     "execution_count": 6,
     "metadata": {},
     "output_type": "execute_result"
    }
   ],
   "source": [
    "# Log Analysis Notebook Example\n",
    "import pandas as pd\n",
    "import matplotlib.pyplot as plt\n",
    "\n",
    "# Load file CSV\n",
    "log = pd.read_csv(\"sample_logs.csv\", parse_dates=[\"timestamp\"])\n",
    "\n",
    "# Xem trước dữ liệu\n",
    "log.head()"
   ]
  },
  {
   "cell_type": "markdown",
   "id": "56f6dd2d",
   "metadata": {},
   "source": [
    "### Thống kê số lượng log theo cấp độ\n",
    "Thực hiện thống kê số lượng log theo từng cấp độ (`INFO`, `DEBUG`, `WARN`, `ERROR`)."
   ]
  },
  {
   "cell_type": "code",
   "execution_count": 7,
   "id": "f314ed65",
   "metadata": {},
   "outputs": [
    {
     "name": "stdout",
     "output_type": "stream",
     "text": [
      "Log count by level:\n",
      "level\n",
      "INFO     28\n",
      "DEBUG    26\n",
      "WARN     24\n",
      "ERROR    22\n",
      "Name: count, dtype: int64\n"
     ]
    }
   ],
   "source": [
    "# Thống kê số lượng log theo level\n",
    "log_level_counts = log['level'].value_counts()\n",
    "print(\"Log count by level:\")\n",
    "print(log_level_counts)"
   ]
  },
  {
   "cell_type": "markdown",
   "id": "a3ac7e92",
   "metadata": {},
   "source": [
    "### Vẽ biểu đồ phân phối cấp độ log\n",
    "Biểu đồ cột hiển thị số lượng log theo từng cấp độ."
   ]
  },
  {
   "cell_type": "code",
   "execution_count": 8,
   "id": "88d3a8da",
   "metadata": {},
   "outputs": [
    {
     "data": {
      "image/png": "[encoded data removed]",
      "text/plain": [
       "<Figure size 640x480 with 1 Axes>"
      ]
     },
     "metadata": {},
     "output_type": "display_data"
    }
   ],
   "source": [
    "# Vẽ biểu đồ log level\n",
    "log_level_counts.plot(kind='bar', title='Log Level Distribution')\n",
    "plt.xlabel('Level')\n",
    "plt.ylabel('Count')\n",
    "plt.grid(True)\n",
    "plt.show()"
   ]
  },
  {
   "cell_type": "markdown",
   "id": "2753a169",
   "metadata": {},
   "source": [
    "### Thống kê thời gian phản hồi trung bình theo module\n",
    "Tính toán thời gian phản hồi trung bình của từng module và sắp xếp theo thứ tự giảm dần."
   ]
  },
  {
   "cell_type": "code",
   "execution_count": 9,
   "id": "0f9ef3ed",
   "metadata": {},
   "outputs": [
    {
     "name": "stdout",
     "output_type": "stream",
     "text": [
      "\n",
      "Average Response Time by Module:\n",
      "module\n",
      "scheduler    1.490846\n",
      "db           1.355250\n",
      "worker       1.352000\n",
      "api          1.268800\n",
      "auth         1.236800\n",
      "Name: response_time, dtype: float64\n"
     ]
    }
   ],
   "source": [
    "# Thống kê response_time trung bình theo module\n",
    "avg_response_by_module = log.groupby('module')['response_time'].mean().sort_values(ascending=False)\n",
    "print(\"\\nAverage Response Time by Module:\")\n",
    "print(avg_response_by_module)"
   ]
  },
  {
   "cell_type": "markdown",
   "id": "190db254",
   "metadata": {},
   "source": [
    "### Vẽ biểu đồ thời gian phản hồi trung bình theo module\n",
    "Biểu đồ thanh ngang hiển thị thời gian phản hồi trung bình của từng module."
   ]
  },
  {
   "cell_type": "code",
   "execution_count": 10,
   "id": "3ad2f64e",
   "metadata": {},
   "outputs": [
    {
     "data": {
      "image/png": "[encoded data removed]",
      "text/plain": [
       "<Figure size 640x480 with 1 Axes>"
      ]
     },
     "metadata": {},
     "output_type": "display_data"
    }
   ],
   "source": [
    "# Vẽ biểu đồ response_time theo module\n",
    "avg_response_by_module.plot(kind='barh', title='Avg Response Time per Module', color='orange')\n",
    "plt.xlabel('Avg Response Time (s)')\n",
    "plt.grid(True)\n",
    "plt.show()"
   ]
  },
  {
   "cell_type": "markdown",
   "id": "7a45af1e",
   "metadata": {},
   "source": [
    "### Phân tích log ERROR và số lượng log theo giờ\n",
    "Lọc các log có cấp độ `ERROR` và phân tích số lượng log theo từng giờ trong ngày."
   ]
  },
  {
   "cell_type": "code",
   "execution_count": 11,
   "id": "1291a696",
   "metadata": {},
   "outputs": [
    {
     "name": "stdout",
     "output_type": "stream",
     "text": [
      "\n",
      "Top 5 ERROR logs:\n",
      "                    timestamp  level     module                    message  \\\n",
      "2  2025-04-16 00:24:57.830542  ERROR         db          User login failed   \n",
      "14 2025-04-16 11:09:38.830542  ERROR        api  Unexpected error occurred   \n",
      "15 2025-04-15 09:34:33.830542  ERROR       auth         User login success   \n",
      "22 2025-04-16 02:12:23.830542  ERROR  scheduler  Unexpected error occurred   \n",
      "24 2025-04-16 10:47:32.830542  ERROR     worker              Job scheduled   \n",
      "\n",
      "    response_time  \n",
      "2           0.682  \n",
      "14          1.610  \n",
      "15          0.835  \n",
      "22          1.047  \n",
      "24          2.265  \n"
     ]
    },
    {
     "data": {
      "image/png": "[encoded data removed]",
      "text/plain": [
       "<Figure size 640x480 with 1 Axes>"
      ]
     },
     "metadata": {},
     "output_type": "display_data"
    }
   ],
   "source": [
    "# Lọc các log ERROR\n",
    "error_logs = log[log['level'] == 'ERROR']\n",
    "print(f\"\\nTop 5 ERROR logs:\")\n",
    "print(error_logs.head())\n",
    "\n",
    "# Phân tích theo thời gian: số log theo giờ\n",
    "log['hour'] = log['timestamp'].dt.hour\n",
    "log_per_hour = log['hour'].value_counts().sort_index()\n",
    "log_per_hour.plot(kind='line', title='Logs by Hour')\n",
    "plt.xlabel('Hour of Day')\n",
    "plt.ylabel('Number of Logs')\n",
    "plt.grid(True)\n",
    "plt.show()"
   ]
  }
 ],
 "metadata": {
  "kernelspec": {
   "display_name": "Python 3",
   "language": "python",
   "name": "python3"
  },
  "language_info": {
   "codemirror_mode": {
    "name": "ipython",
    "version": 3
   },
   "file_extension": ".py",
   "mimetype": "text/x-python",
   "name": "python",
   "nbconvert_exporter": "python",
   "pygments_lexer": "ipython3",
   "version": "3.10.12"
  }
 },
 "nbformat": 4,
 "nbformat_minor": 5
}
